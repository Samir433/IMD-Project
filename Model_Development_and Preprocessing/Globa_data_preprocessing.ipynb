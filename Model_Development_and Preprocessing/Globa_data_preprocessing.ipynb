{
 "cells": [
  {
   "cell_type": "code",
   "execution_count": 31,
   "id": "b347682d",
   "metadata": {},
   "outputs": [],
   "source": [
    "import pandas as pd"
   ]
  },
  {
   "cell_type": "code",
   "execution_count": 32,
   "id": "7ff850dc",
   "metadata": {},
   "outputs": [],
   "source": [
    "df = pd.read_csv('RAD_GLO.DAT')"
   ]
  },
  {
   "cell_type": "code",
   "execution_count": 33,
   "id": "74230705",
   "metadata": {},
   "outputs": [
    {
     "data": {
      "text/html": [
       "<div>\n",
       "<style scoped>\n",
       "    .dataframe tbody tr th:only-of-type {\n",
       "        vertical-align: middle;\n",
       "    }\n",
       "\n",
       "    .dataframe tbody tr th {\n",
       "        vertical-align: top;\n",
       "    }\n",
       "\n",
       "    .dataframe thead th {\n",
       "        text-align: right;\n",
       "    }\n",
       "</style>\n",
       "<table border=\"1\" class=\"dataframe\">\n",
       "  <thead>\n",
       "    <tr style=\"text-align: right;\">\n",
       "      <th></th>\n",
       "      <th>4202783070133  0  0  0  8 33 80 98113 95 98 93 75 48 11  0  0 752 -1020519      19</th>\n",
       "    </tr>\n",
       "  </thead>\n",
       "  <tbody>\n",
       "    <tr>\n",
       "      <th>0</th>\n",
       "      <td>4202783070233  0  0  0 21 57 65129138137132116...</td>\n",
       "    </tr>\n",
       "    <tr>\n",
       "      <th>1</th>\n",
       "      <td>4202783070333  0  0 19 39 54 74 38 23 44109 42...</td>\n",
       "    </tr>\n",
       "    <tr>\n",
       "      <th>2</th>\n",
       "      <td>4202783070433  0  0 10 38 50 -1 82 -1 -1 -1 -1...</td>\n",
       "    </tr>\n",
       "    <tr>\n",
       "      <th>3</th>\n",
       "      <td>4202783070533  0  0 -1 -1 -1 -1 94 85115 89 80...</td>\n",
       "    </tr>\n",
       "    <tr>\n",
       "      <th>4</th>\n",
       "      <td>4202783070633  0  0 -1 -1 -1 -1 -1 -1 -1 -1 57...</td>\n",
       "    </tr>\n",
       "    <tr>\n",
       "      <th>...</th>\n",
       "      <td>...</td>\n",
       "    </tr>\n",
       "    <tr>\n",
       "      <th>487282</th>\n",
       "      <td>4337123092633  0 -1 -1 -1 -1 -1 -1 -1 -1 -1 -1...</td>\n",
       "    </tr>\n",
       "    <tr>\n",
       "      <th>487283</th>\n",
       "      <td>4337123092733  0 -1 -1 -1 -1 -1 -1 -1 -1 -1 -1...</td>\n",
       "    </tr>\n",
       "    <tr>\n",
       "      <th>487284</th>\n",
       "      <td>4337123092833  0 -1 -1 -1 -1 -1 -1 -1 -1 -1 -1...</td>\n",
       "    </tr>\n",
       "    <tr>\n",
       "      <th>487285</th>\n",
       "      <td>4337123092933  0 -1 -1 -1 -1 -1 -1 -1 -1 -1 -1...</td>\n",
       "    </tr>\n",
       "    <tr>\n",
       "      <th>487286</th>\n",
       "      <td>4337123093033  0 -1 -1 -1 -1 -1 -1 -1 -1 -1 -1...</td>\n",
       "    </tr>\n",
       "  </tbody>\n",
       "</table>\n",
       "<p>487287 rows × 1 columns</p>\n",
       "</div>"
      ],
      "text/plain": [
       "       4202783070133  0  0  0  8 33 80 98113 95 98 93 75 48 11  0  0 752 -1020519      19\n",
       "0       4202783070233  0  0  0 21 57 65129138137132116...                                \n",
       "1       4202783070333  0  0 19 39 54 74 38 23 44109 42...                                \n",
       "2       4202783070433  0  0 10 38 50 -1 82 -1 -1 -1 -1...                                \n",
       "3       4202783070533  0  0 -1 -1 -1 -1 94 85115 89 80...                                \n",
       "4       4202783070633  0  0 -1 -1 -1 -1 -1 -1 -1 -1 57...                                \n",
       "...                                                   ...                                \n",
       "487282  4337123092633  0 -1 -1 -1 -1 -1 -1 -1 -1 -1 -1...                                \n",
       "487283  4337123092733  0 -1 -1 -1 -1 -1 -1 -1 -1 -1 -1...                                \n",
       "487284  4337123092833  0 -1 -1 -1 -1 -1 -1 -1 -1 -1 -1...                                \n",
       "487285  4337123092933  0 -1 -1 -1 -1 -1 -1 -1 -1 -1 -1...                                \n",
       "487286  4337123093033  0 -1 -1 -1 -1 -1 -1 -1 -1 -1 -1...                                \n",
       "\n",
       "[487287 rows x 1 columns]"
      ]
     },
     "execution_count": 33,
     "metadata": {},
     "output_type": "execute_result"
    }
   ],
   "source": [
    "df"
   ]
  },
  {
   "cell_type": "code",
   "execution_count": 34,
   "id": "3c44fd86",
   "metadata": {},
   "outputs": [],
   "source": [
    "df.reset_index(drop=True, inplace=True)"
   ]
  },
  {
   "cell_type": "code",
   "execution_count": 35,
   "id": "a885dc85",
   "metadata": {},
   "outputs": [],
   "source": [
    "data = df.set_axis([\"records\"], axis=1)"
   ]
  },
  {
   "cell_type": "code",
   "execution_count": 36,
   "id": "85e9f16f",
   "metadata": {},
   "outputs": [
    {
     "name": "stdout",
     "output_type": "stream",
     "text": [
      "                   ID  05HR  06HR  07HR  08HR  09HR  10HR  11HR  12HR  13HR  \\\n",
      "0       4202783070233   0.0   0.0  0.00  0.21  0.57  0.65  1.29  1.38  1.37   \n",
      "1       4202783070333   0.0   0.0  0.19  0.39  0.54  0.74  0.38  0.23  0.44   \n",
      "2       4202783070433   0.0   0.0  0.10  0.38  0.50   NaN  0.82   NaN   NaN   \n",
      "3       4202783070533   0.0   0.0   NaN   NaN   NaN   NaN  0.94  0.85  1.15   \n",
      "4       4202783070633   0.0   0.0   NaN   NaN   NaN   NaN   NaN   NaN   NaN   \n",
      "...               ...   ...   ...   ...   ...   ...   ...   ...   ...   ...   \n",
      "487282  4337123092633   0.0   NaN   NaN   NaN   NaN   NaN   NaN   NaN   NaN   \n",
      "487283  4337123092733   0.0   NaN   NaN   NaN   NaN   NaN   NaN   NaN   NaN   \n",
      "487284  4337123092833   0.0   NaN   NaN   NaN   NaN   NaN   NaN   NaN   NaN   \n",
      "487285  4337123092933   0.0   NaN   NaN   NaN   NaN   NaN   NaN   NaN   NaN   \n",
      "487286  4337123093033   0.0   NaN   NaN   NaN   NaN   NaN   NaN   NaN   NaN   \n",
      "\n",
      "        14HR  15HR  16HR  17HR  18HR  19HR  20HR  DTRAD  \n",
      "0       1.32  1.16  0.93  0.56  0.40   0.0   0.0   9.48  \n",
      "1       1.09  0.42  0.14  0.10  0.00   0.0   0.0   4.66  \n",
      "2        NaN   NaN   NaN   NaN   NaN   0.0   0.0    NaN  \n",
      "3       0.89  0.80  0.37  0.20  0.00   0.0   0.0    NaN  \n",
      "4        NaN  0.57  0.69  0.62  0.14   0.0   0.0    NaN  \n",
      "...      ...   ...   ...   ...   ...   ...   ...    ...  \n",
      "487282   NaN   NaN   NaN   NaN   NaN   0.0   0.0    NaN  \n",
      "487283   NaN   NaN   NaN   NaN   NaN   0.0   0.0    NaN  \n",
      "487284   NaN   NaN   NaN   NaN   NaN   0.0   0.0    NaN  \n",
      "487285   NaN   NaN   NaN   NaN   NaN   0.0   0.0    NaN  \n",
      "487286   NaN   NaN   NaN   NaN   NaN   0.0   0.0    NaN  \n",
      "\n",
      "[487287 rows x 18 columns]\n"
     ]
    }
   ],
   "source": [
    "import pandas as pd\n",
    "import numpy as np\n",
    "\n",
    "def convert_chunk(chunk):\n",
    "    if chunk.strip() == \"-1\":\n",
    "        return np.nan\n",
    "    if chunk and chunk[0] == ' ':\n",
    "        num = chunk.strip()\n",
    "        try:\n",
    "            return float(\"0.\" + num) if num else np.nan\n",
    "        except:\n",
    "            return np.nan\n",
    "    else:\n",
    "        chunk_str = chunk.strip()\n",
    "        if len(chunk_str) == 3:\n",
    "            try:\n",
    "                return float(chunk_str[0] + \".\" + chunk_str[1:])\n",
    "            except:\n",
    "                return np.nan\n",
    "        elif len(chunk_str) == 2:\n",
    "            try:\n",
    "                return float(chunk_str[0] + \".\" + chunk_str[1])\n",
    "            except:\n",
    "                return np.nan\n",
    "        else:\n",
    "            try:\n",
    "                return float(chunk_str)\n",
    "            except:\n",
    "                return np.nan\n",
    "\n",
    "def convert_dtrad(chunk):\n",
    "    fld = chunk.strip()\n",
    "    if fld == \"-1\" or fld == \"\":\n",
    "        return np.nan\n",
    "    fld = fld.zfill(4)\n",
    "    try:\n",
    "        return float(fld[:2] + \".\" + fld[2:])\n",
    "    except:\n",
    "        return np.nan\n",
    "\n",
    "def parse_fixed_width(record):\n",
    "    fixed_rec = record[:65]\n",
    "    if len(fixed_rec) < 65:\n",
    "        fixed_rec = fixed_rec.ljust(65)\n",
    "    rec_id = fixed_rec[:13]\n",
    "    hourly_str = fixed_rec[13:61]\n",
    "    dtrad_str = fixed_rec[61:65]\n",
    "    hourly_chunks = [hourly_str[i:i+3] for i in range(0, len(hourly_str), 3)]\n",
    "    hourly_values = [convert_chunk(chunk) for chunk in hourly_chunks]\n",
    "    dtrad_value = convert_dtrad(dtrad_str)\n",
    "    return [rec_id] + hourly_values + [dtrad_value]\n",
    "\n",
    "df = pd.DataFrame(data)\n",
    "parsed_series = df['records'].apply(parse_fixed_width)\n",
    "cols = [\"ID\", \"05HR\", \"06HR\", \"07HR\", \"08HR\", \"09HR\", \"10HR\", \"11HR\", \"12HR\", \"13HR\", \"14HR\", \"15HR\", \"16HR\", \"17HR\", \"18HR\", \"19HR\", \"20HR\", \"DTRAD\"]\n",
    "df = pd.DataFrame(parsed_series.tolist(), columns=cols)\n",
    "print(df)"
   ]
  },
  {
   "cell_type": "code",
   "execution_count": 28,
   "id": "51323b43",
   "metadata": {},
   "outputs": [
    {
     "name": "stdout",
     "output_type": "stream",
     "text": [
      "                   ID  05HR  06HR  07HR  08HR  09HR  10HR  11HR  12HR  13HR  \\\n",
      "0       4202783070233   0.0   0.0  0.00  0.21  0.57  0.65  1.29  1.38  1.37   \n",
      "1       4202783070333   0.0   0.0  0.19  0.39  0.54  0.74  0.38  0.23  0.44   \n",
      "2       4202783070433   0.0   0.0  0.10  0.38  0.50 -1.00  0.82 -1.00 -1.00   \n",
      "3       4202783070533   0.0   0.0 -1.00 -1.00 -1.00 -1.00  0.94  0.85  1.15   \n",
      "4       4202783070633   0.0   0.0 -1.00 -1.00 -1.00 -1.00 -1.00 -1.00 -1.00   \n",
      "...               ...   ...   ...   ...   ...   ...   ...   ...   ...   ...   \n",
      "487282  4337123092633   0.0  -1.0 -1.00 -1.00 -1.00 -1.00 -1.00 -1.00 -1.00   \n",
      "487283  4337123092733   0.0  -1.0 -1.00 -1.00 -1.00 -1.00 -1.00 -1.00 -1.00   \n",
      "487284  4337123092833   0.0  -1.0 -1.00 -1.00 -1.00 -1.00 -1.00 -1.00 -1.00   \n",
      "487285  4337123092933   0.0  -1.0 -1.00 -1.00 -1.00 -1.00 -1.00 -1.00 -1.00   \n",
      "487286  4337123093033   0.0  -1.0 -1.00 -1.00 -1.00 -1.00 -1.00 -1.00 -1.00   \n",
      "\n",
      "        14HR  15HR  16HR  17HR  18HR  19HR  20HR  DTRAD  \n",
      "0       1.32  1.16  0.93  0.56  0.40   0.0   0.0   9.48  \n",
      "1       1.09  0.42  0.14  0.10  0.00   0.0   0.0   4.66  \n",
      "2      -1.00 -1.00 -1.00 -1.00 -1.00   0.0   0.0  -1.00  \n",
      "3       0.89  0.80  0.37  0.20  0.00   0.0   0.0  -1.00  \n",
      "4      -1.00  0.57  0.69  0.62  0.14   0.0   0.0  -1.00  \n",
      "...      ...   ...   ...   ...   ...   ...   ...    ...  \n",
      "487282 -1.00 -1.00 -1.00 -1.00 -1.00   0.0   0.0  -1.00  \n",
      "487283 -1.00 -1.00 -1.00 -1.00 -1.00   0.0   0.0  -1.00  \n",
      "487284 -1.00 -1.00 -1.00 -1.00 -1.00   0.0   0.0  -1.00  \n",
      "487285 -1.00 -1.00 -1.00 -1.00 -1.00   0.0   0.0  -1.00  \n",
      "487286 -1.00 -1.00 -1.00 -1.00 -1.00   0.0   0.0  -1.00  \n",
      "\n",
      "[487287 rows x 18 columns]\n"
     ]
    }
   ],
   "source": [
    "df.fillna(-1, inplace=True)\n",
    "print(df)"
   ]
  },
  {
   "cell_type": "code",
   "execution_count": 29,
   "id": "7b55d9a2",
   "metadata": {},
   "outputs": [
    {
     "name": "stdout",
     "output_type": "stream",
     "text": [
      "       CityID Year Month Date  05HR  06HR  07HR  08HR  09HR  10HR  ...  13HR  \\\n",
      "0       42027   83    07   02   0.0   0.0  0.00  0.21  0.57  0.65  ...  1.37   \n",
      "1       42027   83    07   03   0.0   0.0  0.19  0.39  0.54  0.74  ...  0.44   \n",
      "2       42027   83    07   04   0.0   0.0  0.10  0.38  0.50 -1.00  ... -1.00   \n",
      "3       42027   83    07   05   0.0   0.0 -1.00 -1.00 -1.00 -1.00  ...  1.15   \n",
      "4       42027   83    07   06   0.0   0.0 -1.00 -1.00 -1.00 -1.00  ... -1.00   \n",
      "...       ...  ...   ...  ...   ...   ...   ...   ...   ...   ...  ...   ...   \n",
      "487282  43371   23    09   26   0.0  -1.0 -1.00 -1.00 -1.00 -1.00  ... -1.00   \n",
      "487283  43371   23    09   27   0.0  -1.0 -1.00 -1.00 -1.00 -1.00  ... -1.00   \n",
      "487284  43371   23    09   28   0.0  -1.0 -1.00 -1.00 -1.00 -1.00  ... -1.00   \n",
      "487285  43371   23    09   29   0.0  -1.0 -1.00 -1.00 -1.00 -1.00  ... -1.00   \n",
      "487286  43371   23    09   30   0.0  -1.0 -1.00 -1.00 -1.00 -1.00  ... -1.00   \n",
      "\n",
      "        14HR  15HR  16HR  17HR  18HR  19HR  20HR  DTRAD  Special  \n",
      "0       1.32  1.16  0.93  0.56  0.40   0.0   0.0   9.48       33  \n",
      "1       1.09  0.42  0.14  0.10  0.00   0.0   0.0   4.66       33  \n",
      "2      -1.00 -1.00 -1.00 -1.00 -1.00   0.0   0.0  -1.00       33  \n",
      "3       0.89  0.80  0.37  0.20  0.00   0.0   0.0  -1.00       33  \n",
      "4      -1.00  0.57  0.69  0.62  0.14   0.0   0.0  -1.00       33  \n",
      "...      ...   ...   ...   ...   ...   ...   ...    ...      ...  \n",
      "487282 -1.00 -1.00 -1.00 -1.00 -1.00   0.0   0.0  -1.00       33  \n",
      "487283 -1.00 -1.00 -1.00 -1.00 -1.00   0.0   0.0  -1.00       33  \n",
      "487284 -1.00 -1.00 -1.00 -1.00 -1.00   0.0   0.0  -1.00       33  \n",
      "487285 -1.00 -1.00 -1.00 -1.00 -1.00   0.0   0.0  -1.00       33  \n",
      "487286 -1.00 -1.00 -1.00 -1.00 -1.00   0.0   0.0  -1.00       33  \n",
      "\n",
      "[487287 rows x 22 columns]\n"
     ]
    }
   ],
   "source": [
    "df[\"CityID\"] = df[\"ID\"].str[:5]\n",
    "df[\"Year\"] = df[\"ID\"].str[5:7]\n",
    "df[\"Month\"] = df[\"ID\"].str[7:9]\n",
    "df[\"Date\"] = df[\"ID\"].str[9:11]\n",
    "df[\"Special\"] = df[\"ID\"].str[11:13]\n",
    "cols = [\"CityID\", \"Year\", \"Month\", \"Date\"] + [c for c in df.columns if c not in [\"ID\", \"CityID\", \"Year\", \"Month\", \"Date\", \"Special\"]] + [\"Special\"]\n",
    "df = df[cols]\n",
    "print(df)"
   ]
  },
  {
   "cell_type": "code",
   "execution_count": 30,
   "id": "07071372",
   "metadata": {},
   "outputs": [],
   "source": [
    "df.to_csv(\"Total_RAD_GLOB.csv\", index=False)"
   ]
  },
  {
   "cell_type": "code",
   "execution_count": 21,
   "id": "03d57bb7",
   "metadata": {},
   "outputs": [],
   "source": [
    "df.to_csv(\"Total_RAD_GLOB_Missing_Handled.csv\", index=False)"
   ]
  },
  {
   "cell_type": "code",
   "execution_count": null,
   "id": "4b6b5d08",
   "metadata": {},
   "outputs": [],
   "source": []
  }
 ],
 "metadata": {
  "kernelspec": {
   "display_name": "Python 3 (ipykernel)",
   "language": "python",
   "name": "python3"
  },
  "language_info": {
   "codemirror_mode": {
    "name": "ipython",
    "version": 3
   },
   "file_extension": ".py",
   "mimetype": "text/x-python",
   "name": "python",
   "nbconvert_exporter": "python",
   "pygments_lexer": "ipython3",
   "version": "3.10.4"
  }
 },
 "nbformat": 4,
 "nbformat_minor": 5
}
